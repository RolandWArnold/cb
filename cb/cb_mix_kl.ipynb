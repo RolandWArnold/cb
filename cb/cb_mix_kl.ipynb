{
 "cells": [
  {
   "cell_type": "code",
   "execution_count": 1,
   "metadata": {
    "collapsed": true
   },
   "outputs": [],
   "source": [
    "import numpy as np\n",
    "from six.moves import cPickle\n",
    "import matplotlib.pyplot as plt\n",
    "%matplotlib inline\n"
   ]
  },
  {
   "cell_type": "code",
   "execution_count": 2,
   "metadata": {
    "collapsed": true
   },
   "outputs": [],
   "source": [
    "reps = 20 # number of times the EM algorithm is run for every value of K\n",
    "Ks = [1, 2, 3, 4, 5, 6, 7, 8, 9, 10] # number of mixture elements to be considered\n",
    "d = 10 # dimension of each mixture component\n",
    "N_samples = 10000 # number of samples used taken from the mixture\n",
    "EM_max_iter = 1000 # maximum number of iterations for EM\n",
    "EM_tol = 1e-8 # EM stops once the estimates change by less than this\n",
    "N_kl = 1000 # number of samples used to compute the KL\n"
   ]
  },
  {
   "cell_type": "code",
   "execution_count": 3,
   "metadata": {
    "collapsed": true
   },
   "outputs": [],
   "source": [
    "# HELPER FUNCTIONS FOR CONTINUOUS BERNOULLI EM\n",
    "def mean_from_lam(lam):\n",
    "    # given a numpy array of lambda parameters of a continuous Bernoulli, returns the corresponding means.\n",
    "    # this is inefficient as it is not vectorized, but this is only run once to a get a vectorized approximation\n",
    "    # to its inverse\n",
    "    lam_shape = np.shape(lam)\n",
    "    reshaped_lam = np.reshape(lam, -1)\n",
    "    means = np.zeros_like(reshaped_lam)\n",
    "    for i in xrange(len(reshaped_lam)):\n",
    "        if reshaped_lam[i]>=1:\n",
    "            means[i] = reshaped_lam[i]\n",
    "        elif reshaped_lam[i]==0.5:\n",
    "            means[i] = 0.5\n",
    "        elif reshaped_lam[i]>0:\n",
    "            means[i] = reshaped_lam[i] / (2.0 * reshaped_lam[i] - 1.0) + 1.0 / (2.0 * np.arctanh(1.0 - 2.0 *\n",
    "                                                                                                 reshaped_lam[i]))\n",
    "        else:\n",
    "            means[i] = reshaped_lam[i]\n",
    "    means = np.reshape(means, lam_shape)\n",
    "    return means\n",
    "\n",
    "xs = np.linspace(0.0, 1.0 + 1e-4, 100)\n",
    "ys = mean_from_lam(xs)\n",
    "def cont_bern_lam(mu, knots=np.array(xs, dtype='float32'), vals_at_knots=np.array(ys, dtype='float32')):\n",
    "    # given the mean parameter mu of a continuous Bernoulli distribution, returns the canonical parameter lambda.\n",
    "    # vectorized version of the inverse of the previous function\n",
    "    # note that it returs the incorrect value at mu=1.0\n",
    "    slopes = (vals_at_knots[1:] - vals_at_knots[:-1]) / (knots[1:] - knots[:-1])\n",
    "    intercepts = vals_at_knots[1:] - slopes * knots[1:]\n",
    "    inv_slopes = 1.0 / slopes\n",
    "    inv_intercepts = - intercepts / slopes\n",
    "\n",
    "    dims = np.shape(mu)\n",
    "    reshaped_mu = np.reshape(mu, [-1])  # [?]\n",
    "    diff_1 = np.expand_dims(reshaped_mu, 1) - np.expand_dims(vals_at_knots[:-1], 0)  # [?, n_knots-1]\n",
    "    diff_2 = np.expand_dims(vals_at_knots[1:], 0) - np.expand_dims(reshaped_mu, 1)  # [?, n_knots-1]\n",
    "    masks = np.where(np.logical_and(np.greater_equal(diff_1, 0.0), np.greater(diff_2, 0.0)),\n",
    "                     np.ones([np.shape(reshaped_mu)[0], np.shape(vals_at_knots)[0] - 1]),\n",
    "                     np.zeros([np.shape(reshaped_mu)[0], np.shape(vals_at_knots)[0] - 1]))  # [?, n_knots-1]\n",
    "    all_lines = np.expand_dims(reshaped_mu, 1) * np.expand_dims(inv_slopes, 0) + np.expand_dims(inv_intercepts, 0)\n",
    "    all_lines = masks * all_lines\n",
    "    reshaped_lam = np.sum(all_lines, 1)\n",
    "    lam = np.reshape(reshaped_lam, dims)\n",
    "    return lam\n",
    "\n",
    "def sample_cont_bern(lam):\n",
    "    u = np.random.uniform(0, 1, np.shape(lam))\n",
    "    samples = np.where(np.logical_and(lam > 0.499, lam < 0.501), u,\n",
    "                       (np.log(u * (2.0 * lam - 1.0) + 1.0 - lam) - np.log(1.0 - lam)) / (np.log(lam) - np.log(1.0 - lam)))\n",
    "    return samples\n",
    "\n",
    "def sample_cont_bern_mix(n_samples, c, lam):\n",
    "    K, d = np.shape(lam)\n",
    "    samples = np.zeros([n_samples, d])\n",
    "    for i in xrange(n_samples):\n",
    "        mix_comp = np.random.choice(np.arange(K), p=c)\n",
    "        samples[i] = sample_cont_bern(lam[mix_comp])\n",
    "    return samples"
   ]
  },
  {
   "cell_type": "code",
   "execution_count": 4,
   "metadata": {
    "collapsed": false
   },
   "outputs": [],
   "source": [
    "# EM ALGORITHM FUNCTIONS FOR MIXTURE OF CONTINUOUS BERNOULLIS\n",
    "def cb_log_lik(x, lam, cheat=False):\n",
    "    #given x [N, d] and lam [K, d], gives back the log likelihood of a d-dimensional continuous Bernoulli distribution\n",
    "    # with parameter lam for each of the N x's and the K lam's (output has shape [N, K])\n",
    "    reshaped_x = np.expand_dims(x, 1) # [N, 1, d]\n",
    "    reshaped_lam = np.expand_dims(lam, 0) # [1, K, d]\n",
    "    bern_log_lik = reshaped_x * np.log(reshaped_lam) + (1.0 - reshaped_x) * np.log(1.0 - reshaped_lam) # [N, K, d]\n",
    "    extra = 0.0\n",
    "    if not cheat:\n",
    "        cut_lam = np.where(np.logical_or(lam < 0.49, lam > 0.51), lam, 0.49 * np.ones_like(lam))\n",
    "        log_norm = np.log(np.absolute(2.0 * np.arctanh(1.0 - 2.0 * cut_lam))) - np.log(np.absolute(1.0 - 2.0 * cut_lam))\n",
    "        taylor = 4.0 / 3.0 * (lam - 0.5)**2 + 104.0 / 45.0 * (lam - 0.5)**4\n",
    "        extra = np.expand_dims(np.where(np.logical_or(lam < 0.49, lam > 0.51), log_norm, taylor), 0)  # [N, K, d]\n",
    "    log_lik = bern_log_lik + extra\n",
    "    return np.sum(log_lik, axis=2)\n",
    "\n",
    "def kl_cb_mix(n, lam1, c1, lam2, c2):\n",
    "    # estimates the KL divergence between a mixture of CBs with lambdas lam1 [K, d] and mixture weights c1 [K] and\n",
    "    # a mixture of CBs with lambdas lam2 and mixture weights c2.\n",
    "    # samples n times from the first mixture to estimate this\n",
    "    x1 = sample_cont_bern_mix(n, c1, lam1)\n",
    "    log_p_1 = np.mean(np.log(np.sum(np.exp(cb_log_lik(x1, lam1)) * np.expand_dims(c1, 0), 1)))\n",
    "    log_p_2 = np.mean(np.log(np.sum(np.exp(cb_log_lik(x1, lam2)) * np.expand_dims(c2, 0), 1)))\n",
    "    return log_p_1 - log_p_2\n",
    "\n",
    "\n",
    "def cb_em_step(c, lam, x, cheat=False):\n",
    "    # given current estimates of c [K] and lam [K, d] of a d-dimensional mixture of continuous Bernoulli distributions\n",
    "    # and data [N, d] (N samples of d-dimensions), returns the next estimates after applying one iteration of the EM\n",
    "    # algorithm\n",
    "    logCBs = cb_log_lik(x, lam, cheat) # [N, K]\n",
    "    Ts = np.expand_dims(c, 0) * np.exp(logCBs) # [N, K]\n",
    "    Ts = Ts / np.sum(Ts, axis=1, keepdims=True) # [N, K]\n",
    "    new_c = np.mean(Ts, axis=0)\n",
    "    reweighted_Ts = Ts / np.sum(Ts, axis=0, keepdims=True)\n",
    "    new_lam = np.sum(np.expand_dims(reweighted_Ts, 2) * np.expand_dims(x, 1), 0) #[K, d]\n",
    "    if not cheat:\n",
    "        new_lam = cont_bern_lam(new_lam)\n",
    "    return new_c, new_lam\n",
    "\n",
    "def cb_em_alg(x, K, tol, max_iter, cheat=False):\n",
    "    d = np.shape(x)[1]\n",
    "    lam = np.random.uniform(1e-4, 1-1e-4, size=(K, d))\n",
    "    c = np.ones(K) / K\n",
    "    reach_max_iter = True\n",
    "    for i in xrange(max_iter):\n",
    "        new_c, new_lam = cb_em_step(c, lam, x, cheat)\n",
    "        if np.maximum(np.max(new_c - c), np.max(new_lam - lam)) < tol:\n",
    "            c = new_c\n",
    "            lam = new_lam\n",
    "            reach_max_iter = False\n",
    "            break\n",
    "        c = new_c\n",
    "        lam = new_lam\n",
    "    return c, lam, reach_max_iter\n"
   ]
  },
  {
   "cell_type": "code",
   "execution_count": 5,
   "metadata": {
    "collapsed": false
   },
   "outputs": [
    {
     "name": "stdout",
     "output_type": "stream",
     "text": [
      "[0.37679623 0.62320377]\n",
      "[[0.0757225  0.80279264]\n",
      " [0.70631627 0.32681622]]\n",
      "------------\n",
      "0.0\n"
     ]
    }
   ],
   "source": [
    "#SIMPLE CHECK\n",
    "c_test = np.array([0.4, 0.6])\n",
    "lam_test = np.array([[0.1, 0.8], [0.7, 0.3]])\n",
    "data = sample_cont_bern_mix(10000, c_test, lam_test)\n",
    "c_est, lam_est, _ = cb_em_alg(data, len(c_test), 1e-32, 1000)\n",
    "print c_est\n",
    "print lam_est"
   ]
  },
  {
   "cell_type": "code",
   "execution_count": 6,
   "metadata": {
    "collapsed": false
   },
   "outputs": [
    {
     "name": "stdout",
     "output_type": "stream",
     "text": [
      "repetition: 0\n",
      "repetition: 1\n",
      "repetition: 2\n",
      "repetition: 3\n",
      "repetition: 4\n",
      "repetition: 5\n",
      "repetition: 6\n",
      "repetition: 7\n",
      "repetition: 8\n",
      "repetition: 9\n",
      "repetition: 10\n",
      "repetition: 11\n",
      "repetition: 12\n",
      "repetition: 13\n",
      "repetition: 14\n",
      "repetition: 15\n",
      "repetition: 16\n",
      "repetition: 17\n",
      "repetition: 18\n",
      "repetition: 19\n"
     ]
    }
   ],
   "source": [
    "#FOR EACH K IN Ks, GENERATE DATA AND RUN EM, BOTH CHEATING AND NOT. REPEAT REPS TIMES.\n",
    "num_Ks = len(Ks)\n",
    "kls = np.zeros([reps, num_Ks])\n",
    "kls_cheat = np.zeros([reps, num_Ks])\n",
    "kls_cheat_muinv = np.zeros([reps, num_Ks])\n",
    "\n",
    "for rep in xrange(reps):\n",
    "    print('repetition: ' + str(rep))\n",
    "    for k in xrange(num_Ks):\n",
    "        true_lams = np.random.uniform(size=[Ks[k], d])\n",
    "        data = sample_cont_bern_mix(N_samples, np.ones(Ks[k]) / Ks[k], true_lams)\n",
    "        est_c, est_lam, _ = cb_em_alg(data, Ks[k], EM_tol, EM_max_iter)\n",
    "        est_c_cheat, est_lam_cheat, _ = cb_em_alg(data, Ks[k], EM_tol, EM_max_iter, True)\n",
    "        est_lam_muinv_cheat = cont_bern_lam(est_lam_cheat)\n",
    "        kls[rep, k] = kl_cb_mix(N_kl, true_lams, np.ones(Ks[k]) / Ks[k], est_lam, est_c)\n",
    "        kls_cheat[rep, k] = kl_cb_mix(N_kl, true_lams, np.ones(Ks[k]) / Ks[k], est_lam_cheat, est_c_cheat)\n",
    "        kls_cheat_muinv[rep, k] = kl_cb_mix(N_kl, true_lams, np.ones(Ks[k]) / Ks[k], est_lam_muinv_cheat, est_c_cheat)\n"
   ]
  },
  {
   "cell_type": "code",
   "execution_count": 12,
   "metadata": {
    "collapsed": false
   },
   "outputs": [
    {
     "data": {
      "image/png": "[encoded data removed]",
      "text/plain": [
       "<Figure size 360x288 with 1 Axes>"
      ]
     },
     "metadata": {},
     "output_type": "display_data"
    }
   ],
   "source": [
    "blue1 = (166.0 / 256.0, 206.0 / 256.0, 227.0 / 256.0)\n",
    "blue2 = (31.0 / 256.0, 120.0 / 256.0, 180.0 / 256.0)\n",
    "red1 = (251.0 / 256.0, 154.0 / 256.0, 153.0 / 256.0)\n",
    "\n",
    "plt.figure(figsize=(5, 4))\n",
    "plt.plot(np.array(Ks), np.mean(kls, axis=0), label=r\"$\\mathcal{CB}$\", color=blue2)\n",
    "plt.plot(np.array(Ks), np.mean(kls_cheat, axis=0), label=r\"$\\mathcal{B}$\", color=blue1)\n",
    "plt.plot(np.array(Ks), np.mean(kls_cheat_muinv, axis=0), label=r\"$\\mathcal{B}$ plus $\\mu^{-1}$\", color=red1)\n",
    "\n",
    "plt.plot(np.array(Ks), np.mean(kls, axis=0) - np.std(kls, axis=0) / np.sqrt(reps), color=blue2, ls='--')\n",
    "plt.plot(np.array(Ks), np.mean(kls, axis=0) + np.std(kls, axis=0) / np.sqrt(reps), color=blue2, ls='--')\n",
    "plt.plot(np.array(Ks), np.mean(kls_cheat, axis=0) - np.std(kls_cheat, axis=0) / np.sqrt(reps), color=blue1, ls='--')\n",
    "plt.plot(np.array(Ks), np.mean(kls_cheat, axis=0) + np.std(kls_cheat, axis=0) / np.sqrt(reps), color=blue1, ls='--')\n",
    "plt.plot(np.array(Ks), np.mean(kls_cheat_muinv, axis=0) - np.std(kls_cheat_muinv, axis=0) / np.sqrt(reps), color=red1, ls='--')\n",
    "plt.plot(np.array(Ks), np.mean(kls_cheat_muinv, axis=0) + np.std(kls_cheat_muinv, axis=0) / np.sqrt(reps), color=red1, ls='--')\n",
    "\n",
    "plt.xlabel(r\"mixture components $K$\", fontsize=14)\n",
    "plt.ylabel(r\"KL$(p_0|| \\hat{p})$\", fontsize=14)\n",
    "plt.legend()\n",
    "plt.title(r\"bias of $\\mathcal{B}$ likelihood for $\\mathcal{CB}$ mixture\", fontsize=14)\n",
    "plt.tight_layout()\n",
    "# plt.savefig('cont_bern_em_mix.pdf', bbox_inches=\"tight\")"
   ]
  },
  {
   "cell_type": "code",
   "execution_count": null,
   "metadata": {
    "collapsed": true
   },
   "outputs": [],
   "source": []
  }
 ],
 "metadata": {
  "kernelspec": {
   "display_name": "Python 2",
   "language": "python",
   "name": "python2"
  },
  "language_info": {
   "codemirror_mode": {
    "name": "ipython",
    "version": 2
   },
   "file_extension": ".py",
   "mimetype": "text/x-python",
   "name": "python",
   "nbconvert_exporter": "python",
   "pygments_lexer": "ipython2",
   "version": "2.7.11"
  }
 },
 "nbformat": 4,
 "nbformat_minor": 2
}
